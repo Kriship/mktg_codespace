{
 "cells": [
  {
   "cell_type": "markdown",
   "metadata": {},
   "source": [
    "# Assignment 1: Python Practice (Marketing Analytics)\n",
    "## Your name: Krishi Patel\n",
    "\n",
    "Submit the completed file to Canvas."
   ]
  },
  {
   "cell_type": "markdown",
   "metadata": {},
   "source": [
    "## Q1\n",
    "\n",
    "Complete the cell below by adding the following steps:\n",
    "\n",
    "1. Convert y to an integer\n",
    "2. Compute x + y\n",
    "3. Print the result"
   ]
  },
  {
   "cell_type": "code",
   "execution_count": 1,
   "metadata": {},
   "outputs": [
    {
     "name": "stdout",
     "output_type": "stream",
     "text": [
      "15\n"
     ]
    }
   ],
   "source": [
    "x = 5\n",
    "y = 10\n",
    "print(x+y)"
   ]
  },
  {
   "cell_type": "markdown",
   "metadata": {},
   "source": [
    "## Q2\n",
    "\n",
    "Complete the cell below to compute the boolean value of the comparison m > n \n"
   ]
  },
  {
   "cell_type": "code",
   "execution_count": 2,
   "metadata": {},
   "outputs": [
    {
     "name": "stdout",
     "output_type": "stream",
     "text": [
      "False\n"
     ]
    }
   ],
   "source": [
    "m = 20\n",
    "n = 50\n",
    "print(m > n)"
   ]
  },
  {
   "cell_type": "markdown",
   "metadata": {},
   "source": [
    "## Q3\n",
    "\n",
    "Identify the error in the following code and provide a corrected version."
   ]
  },
  {
   "cell_type": "code",
   "execution_count": 15,
   "metadata": {},
   "outputs": [
    {
     "name": "stdout",
     "output_type": "stream",
     "text": [
      "42.5 Hello\n"
     ]
    }
   ],
   "source": [
    "a = \"42.5 \"\n",
    "b = \"Hello\"\n",
    "print(a + b)"
   ]
  },
  {
   "cell_type": "markdown",
   "metadata": {},
   "source": [
    "## Q4\n",
    "\n",
    "Write a function that checks if a number is greater than 50. Return True if it is, and False otherwise."
   ]
  },
  {
   "cell_type": "code",
   "execution_count": 5,
   "metadata": {},
   "outputs": [
    {
     "name": "stdout",
     "output_type": "stream",
     "text": [
      "True\n",
      "False\n"
     ]
    }
   ],
   "source": [
    "def is_greater_than_50(my_num):\n",
    "    return my_num > 50\n",
    "\n",
    "# Example usage:\n",
    "print(is_greater_than_50(75))  # True\n",
    "print(is_greater_than_50(25))  # False"
   ]
  },
  {
   "cell_type": "markdown",
   "metadata": {},
   "source": [
    "## Q5\n",
    "\n",
    "Given a list of numbers, \"numbers\", write code to print whether each number is greater than or equal to 30 using a for loop.\n",
    "- If a number is greater than or equal to 30, print the number itself and also the string \"at least 30\"\n",
    "- If a number is less than 30, print the number itself and the string \"less than 30\""
   ]
  },
  {
   "cell_type": "code",
   "execution_count": 7,
   "metadata": {},
   "outputs": [
    {
     "name": "stdout",
     "output_type": "stream",
     "text": [
      "10 less than 30\n",
      "23 less than 30\n",
      "45 at least 30\n",
      "60 at least 30\n",
      "17 less than 30\n"
     ]
    }
   ],
   "source": [
    "numbers = [10, 23, 45, 60, 17]\n",
    "for i in numbers:\n",
    "    if i >= 30:\n",
    "        print(i, \"at least 30\")\n",
    "    else:\n",
    "        print(i, \"less than 30\")"
   ]
  },
  {
   "cell_type": "markdown",
   "metadata": {},
   "source": [
    "## Q6\n",
    "1. Using list comprehension, create a new list where each number from \"numbers_2\" is divided by 2.\n",
    "2. Name the new list \"numbers_new\".\n",
    "3. Print the list.\n"
   ]
  },
  {
   "cell_type": "code",
   "execution_count": 14,
   "metadata": {},
   "outputs": [
    {
     "name": "stdout",
     "output_type": "stream",
     "text": [
      "[0.5, 1.0, 1.5, 2.0, 2.5, 3.0, 3.5, 4.0, 4.5, 5.0]\n"
     ]
    }
   ],
   "source": [
    "numbers_2 = [1, 2, 3, 4, 5, 6, 7, 8, 9, 10]\n",
    "numbers_new = [num / 2 for num in numbers_2]\n",
    "print(numbers_new)"
   ]
  },
  {
   "cell_type": "markdown",
   "metadata": {},
   "source": [
    "## Q7\n",
    "\n",
    "You are given a dictionary named \"student_scores\".\n",
    "\n",
    "1. Add a new student Eva with a score of 80 to the dictionary\n",
    "2. Print the whole dictionary\n",
    "3. Print specifically Charlie's Score"
   ]
  },
  {
   "cell_type": "code",
   "execution_count": 23,
   "metadata": {},
   "outputs": [
    {
     "name": "stdout",
     "output_type": "stream",
     "text": [
      "{'Alice': 85, 'Bob': 92, 'Charlie': 78, 'Diana': 90, 'Eva': 80}\n",
      "78\n"
     ]
    }
   ],
   "source": [
    "student_scores = {\"Alice\": 85, \"Bob\": 92, \"Charlie\": 78, \"Diana\": 90}\n",
    "student_scores['Eva'] = 80\n",
    "print(student_scores)\n",
    "print(student_scores['Charlie'])"
   ]
  },
  {
   "cell_type": "markdown",
   "metadata": {},
   "source": [
    "## Q8\n",
    "\n",
    "Write a function called \"sum_of_squares\" that takes a list of numbers as input and returns the sum of the squares of all the numbers in the list.\n",
    "For example, when running the following line of code, the output should be 14\n",
    "\n",
    "sum_of_squares([1, 2, 3])  # Output should be 14\n",
    "\n",
    "\n"
   ]
  },
  {
   "cell_type": "code",
   "execution_count": 26,
   "metadata": {},
   "outputs": [
    {
     "data": {
      "text/plain": [
       "14"
      ]
     },
     "execution_count": 26,
     "metadata": {},
     "output_type": "execute_result"
    }
   ],
   "source": [
    "# Define your function here\n",
    "def sum_of_squares(nums):\n",
    "    sum = 0\n",
    "    for i in nums:\n",
    "        sum += i ** 2\n",
    "    return sum\n",
    "\n",
    "\n",
    "# The following line should return 14\n",
    "sum_of_squares([1,2,3])"
   ]
  },
  {
   "cell_type": "markdown",
   "metadata": {},
   "source": [
    "## Rename the file to Lastname_Firstname_Assignment1.ipynb.\n",
    "## Download this file to your computer. Then submit the downloaded file to Canvas."
   ]
  },
  {
   "cell_type": "markdown",
   "metadata": {},
   "source": []
  }
 ],
 "metadata": {
  "kernelspec": {
   "display_name": "Python 3 (ipykernel)",
   "language": "python",
   "name": "python3"
  },
  "language_info": {
   "codemirror_mode": {
    "name": "ipython",
    "version": 3
   },
   "file_extension": ".py",
   "mimetype": "text/x-python",
   "name": "python",
   "nbconvert_exporter": "python",
   "pygments_lexer": "ipython3",
   "version": "3.9.15"
  }
 },
 "nbformat": 4,
 "nbformat_minor": 2
}
